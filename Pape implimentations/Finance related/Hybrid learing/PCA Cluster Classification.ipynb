{
 "cells": [
  {
   "cell_type": "code",
   "execution_count": 1,
   "id": "c0214bd8",
   "metadata": {},
   "outputs": [],
   "source": [
    "import numpy as np\n",
    "from sklearn.decomposition import PCA\n",
    "\n",
    "# Create a random 100x10 matrix\n",
    "np.random.seed(0)  # For reproducibility\n",
    "T = 5051\n",
    "S = 48\n",
    "\n",
    "Test = 1574\n",
    "\n",
    "random_matrix = np.random.rand(T, S)\n",
    "new_data = np.random.rand(Test, S)"
   ]
  },
  {
   "cell_type": "code",
   "execution_count": 2,
   "id": "ce286657",
   "metadata": {},
   "outputs": [],
   "source": [
    "# Step 2: Standardize the data (recommended)\n",
    "mean = np.mean(random_matrix, axis=0)\n",
    "std_dev = np.std(random_matrix, axis=0)\n",
    "standardized_matrix = (random_matrix - mean) / std_dev"
   ]
  },
  {
   "cell_type": "code",
   "execution_count": 3,
   "id": "c0a45da0",
   "metadata": {},
   "outputs": [],
   "source": [
    "# Step 3: Perform PCA\n",
    "pca = PCA()"
   ]
  },
  {
   "cell_type": "code",
   "execution_count": 4,
   "id": "dfb18208",
   "metadata": {},
   "outputs": [
    {
     "data": {
      "text/html": [
       "<style>#sk-container-id-1 {color: black;}#sk-container-id-1 pre{padding: 0;}#sk-container-id-1 div.sk-toggleable {background-color: white;}#sk-container-id-1 label.sk-toggleable__label {cursor: pointer;display: block;width: 100%;margin-bottom: 0;padding: 0.3em;box-sizing: border-box;text-align: center;}#sk-container-id-1 label.sk-toggleable__label-arrow:before {content: \"▸\";float: left;margin-right: 0.25em;color: #696969;}#sk-container-id-1 label.sk-toggleable__label-arrow:hover:before {color: black;}#sk-container-id-1 div.sk-estimator:hover label.sk-toggleable__label-arrow:before {color: black;}#sk-container-id-1 div.sk-toggleable__content {max-height: 0;max-width: 0;overflow: hidden;text-align: left;background-color: #f0f8ff;}#sk-container-id-1 div.sk-toggleable__content pre {margin: 0.2em;color: black;border-radius: 0.25em;background-color: #f0f8ff;}#sk-container-id-1 input.sk-toggleable__control:checked~div.sk-toggleable__content {max-height: 200px;max-width: 100%;overflow: auto;}#sk-container-id-1 input.sk-toggleable__control:checked~label.sk-toggleable__label-arrow:before {content: \"▾\";}#sk-container-id-1 div.sk-estimator input.sk-toggleable__control:checked~label.sk-toggleable__label {background-color: #d4ebff;}#sk-container-id-1 div.sk-label input.sk-toggleable__control:checked~label.sk-toggleable__label {background-color: #d4ebff;}#sk-container-id-1 input.sk-hidden--visually {border: 0;clip: rect(1px 1px 1px 1px);clip: rect(1px, 1px, 1px, 1px);height: 1px;margin: -1px;overflow: hidden;padding: 0;position: absolute;width: 1px;}#sk-container-id-1 div.sk-estimator {font-family: monospace;background-color: #f0f8ff;border: 1px dotted black;border-radius: 0.25em;box-sizing: border-box;margin-bottom: 0.5em;}#sk-container-id-1 div.sk-estimator:hover {background-color: #d4ebff;}#sk-container-id-1 div.sk-parallel-item::after {content: \"\";width: 100%;border-bottom: 1px solid gray;flex-grow: 1;}#sk-container-id-1 div.sk-label:hover label.sk-toggleable__label {background-color: #d4ebff;}#sk-container-id-1 div.sk-serial::before {content: \"\";position: absolute;border-left: 1px solid gray;box-sizing: border-box;top: 0;bottom: 0;left: 50%;z-index: 0;}#sk-container-id-1 div.sk-serial {display: flex;flex-direction: column;align-items: center;background-color: white;padding-right: 0.2em;padding-left: 0.2em;position: relative;}#sk-container-id-1 div.sk-item {position: relative;z-index: 1;}#sk-container-id-1 div.sk-parallel {display: flex;align-items: stretch;justify-content: center;background-color: white;position: relative;}#sk-container-id-1 div.sk-item::before, #sk-container-id-1 div.sk-parallel-item::before {content: \"\";position: absolute;border-left: 1px solid gray;box-sizing: border-box;top: 0;bottom: 0;left: 50%;z-index: -1;}#sk-container-id-1 div.sk-parallel-item {display: flex;flex-direction: column;z-index: 1;position: relative;background-color: white;}#sk-container-id-1 div.sk-parallel-item:first-child::after {align-self: flex-end;width: 50%;}#sk-container-id-1 div.sk-parallel-item:last-child::after {align-self: flex-start;width: 50%;}#sk-container-id-1 div.sk-parallel-item:only-child::after {width: 0;}#sk-container-id-1 div.sk-dashed-wrapped {border: 1px dashed gray;margin: 0 0.4em 0.5em 0.4em;box-sizing: border-box;padding-bottom: 0.4em;background-color: white;}#sk-container-id-1 div.sk-label label {font-family: monospace;font-weight: bold;display: inline-block;line-height: 1.2em;}#sk-container-id-1 div.sk-label-container {text-align: center;}#sk-container-id-1 div.sk-container {/* jupyter's `normalize.less` sets `[hidden] { display: none; }` but bootstrap.min.css set `[hidden] { display: none !important; }` so we also need the `!important` here to be able to override the default hidden behavior on the sphinx rendered scikit-learn.org. See: https://github.com/scikit-learn/scikit-learn/issues/21755 */display: inline-block !important;position: relative;}#sk-container-id-1 div.sk-text-repr-fallback {display: none;}</style><div id=\"sk-container-id-1\" class=\"sk-top-container\"><div class=\"sk-text-repr-fallback\"><pre>PCA()</pre><b>In a Jupyter environment, please rerun this cell to show the HTML representation or trust the notebook. <br />On GitHub, the HTML representation is unable to render, please try loading this page with nbviewer.org.</b></div><div class=\"sk-container\" hidden><div class=\"sk-item\"><div class=\"sk-estimator sk-toggleable\"><input class=\"sk-toggleable__control sk-hidden--visually\" id=\"sk-estimator-id-1\" type=\"checkbox\" checked><label for=\"sk-estimator-id-1\" class=\"sk-toggleable__label sk-toggleable__label-arrow\">PCA</label><div class=\"sk-toggleable__content\"><pre>PCA()</pre></div></div></div></div></div>"
      ],
      "text/plain": [
       "PCA()"
      ]
     },
     "execution_count": 4,
     "metadata": {},
     "output_type": "execute_result"
    }
   ],
   "source": [
    "# Step 4: Choose the number of principal components to retain\n",
    "# You can specify the number of components using pca = PCA(n_components=k)\n",
    "# where k is the desired number of components.\n",
    "# For now, we'll use all components.\n",
    "k = 48\n",
    "\n",
    "pca.fit(standardized_matrix)"
   ]
  },
  {
   "cell_type": "code",
   "execution_count": 5,
   "id": "8ac79bdd",
   "metadata": {},
   "outputs": [],
   "source": [
    "explained_variance = pca.explained_variance_ratio_"
   ]
  },
  {
   "cell_type": "code",
   "execution_count": 6,
   "id": "331e0968",
   "metadata": {},
   "outputs": [
    {
     "data": {
      "text/plain": [
       "(48,)"
      ]
     },
     "execution_count": 6,
     "metadata": {},
     "output_type": "execute_result"
    }
   ],
   "source": [
    "explained_variance.shape"
   ]
  },
  {
   "cell_type": "code",
   "execution_count": 7,
   "id": "35f066a2",
   "metadata": {},
   "outputs": [],
   "source": [
    "cumulative_variance = np.cumsum(pca.explained_variance_ratio_)"
   ]
  },
  {
   "cell_type": "code",
   "execution_count": 8,
   "id": "79a86cf6",
   "metadata": {},
   "outputs": [
    {
     "data": {
      "text/plain": [
       "array([0.02455641, 0.0490123 , 0.07317672, 0.09701689, 0.12069687,\n",
       "       0.14423666, 0.1676726 , 0.19091866, 0.2139488 , 0.23672595,\n",
       "       0.25943307, 0.28190849, 0.30422158, 0.3263162 , 0.34824584,\n",
       "       0.37004661, 0.3917485 , 0.41334787, 0.4347778 , 0.45612531,\n",
       "       0.47726327, 0.49822134, 0.5190332 , 0.53983197, 0.56054664,\n",
       "       0.58115129, 0.60168142, 0.62210205, 0.64233634, 0.66250077,\n",
       "       0.6825923 , 0.70252657, 0.72217342, 0.74170681, 0.76120979,\n",
       "       0.7805552 , 0.79965589, 0.81860527, 0.83743667, 0.85613983,\n",
       "       0.87465574, 0.89290948, 0.91104488, 0.92909573, 0.94709315,\n",
       "       0.9648775 , 0.98259972, 1.        ])"
      ]
     },
     "execution_count": 8,
     "metadata": {},
     "output_type": "execute_result"
    }
   ],
   "source": [
    "cumulative_variance"
   ]
  },
  {
   "cell_type": "code",
   "execution_count": 9,
   "id": "1bc070a4",
   "metadata": {},
   "outputs": [
    {
     "data": {
      "text/plain": [
       "26"
      ]
     },
     "execution_count": 9,
     "metadata": {},
     "output_type": "execute_result"
    }
   ],
   "source": [
    "# Decreasing selected_variance to 0.58 to maintain 58% explained variance.\n",
    "# Originally, we used 90% variance, which captured all the important components,\n",
    "# but now we are choosing 58% variance to retain 26 selected components.\n",
    "selected_variance = 0.58\n",
    "num_components_for_selected_varience = np.argmax(cumulative_variance >= selected_variance) + 1\n",
    "num_components_for_selected_varience"
   ]
  },
  {
   "cell_type": "code",
   "execution_count": 10,
   "id": "de554965",
   "metadata": {},
   "outputs": [],
   "source": [
    "selected_components = pca.components_[:num_components_for_selected_varience, :]"
   ]
  },
  {
   "cell_type": "code",
   "execution_count": 11,
   "id": "6c6dfbe5",
   "metadata": {},
   "outputs": [
    {
     "data": {
      "text/plain": [
       "(26, 48)"
      ]
     },
     "execution_count": 11,
     "metadata": {},
     "output_type": "execute_result"
    }
   ],
   "source": [
    "selected_components.shape"
   ]
  },
  {
   "cell_type": "code",
   "execution_count": 12,
   "id": "f81b59a8",
   "metadata": {},
   "outputs": [],
   "source": [
    "# (6625 x 48 ) @ (48 x 26)\n",
    "reduced_data = np.dot(standardized_matrix, selected_components.T)"
   ]
  },
  {
   "cell_type": "code",
   "execution_count": 13,
   "id": "3d5ccfad",
   "metadata": {},
   "outputs": [
    {
     "data": {
      "text/plain": [
       "(5051, 26)"
      ]
     },
     "execution_count": 13,
     "metadata": {},
     "output_type": "execute_result"
    }
   ],
   "source": [
    "reduced_data.shape"
   ]
  },
  {
   "cell_type": "code",
   "execution_count": 14,
   "id": "b0867fac",
   "metadata": {},
   "outputs": [],
   "source": [
    "## Pre Processing of the new Data"
   ]
  },
  {
   "cell_type": "code",
   "execution_count": 15,
   "id": "f834a447",
   "metadata": {},
   "outputs": [
    {
     "data": {
      "text/plain": [
       "(1574, 48)"
      ]
     },
     "execution_count": 15,
     "metadata": {},
     "output_type": "execute_result"
    }
   ],
   "source": [
    "new_data.shape"
   ]
  },
  {
   "cell_type": "code",
   "execution_count": 16,
   "id": "35fe3d3f",
   "metadata": {},
   "outputs": [],
   "source": [
    "# Standerdized the new data according to old mean and varience\n",
    "standardized_new = (new_data - mean) / std_dev"
   ]
  },
  {
   "cell_type": "code",
   "execution_count": 17,
   "id": "de0a89af",
   "metadata": {},
   "outputs": [
    {
     "data": {
      "text/plain": [
       "(1574, 48)"
      ]
     },
     "execution_count": 17,
     "metadata": {},
     "output_type": "execute_result"
    }
   ],
   "source": [
    "standardized_new.shape"
   ]
  },
  {
   "cell_type": "code",
   "execution_count": 18,
   "id": "1b185cec",
   "metadata": {},
   "outputs": [],
   "source": [
    "reduced_new_data = np.dot(standardized_new, selected_components.T)"
   ]
  },
  {
   "cell_type": "code",
   "execution_count": 19,
   "id": "4ee2a238",
   "metadata": {},
   "outputs": [
    {
     "data": {
      "text/plain": [
       "(1574, 26)"
      ]
     },
     "execution_count": 19,
     "metadata": {},
     "output_type": "execute_result"
    }
   ],
   "source": [
    "reduced_new_data.shape"
   ]
  },
  {
   "cell_type": "code",
   "execution_count": 20,
   "id": "31f82766",
   "metadata": {},
   "outputs": [
    {
     "data": {
      "text/plain": [
       "(5051, 26)"
      ]
     },
     "execution_count": 20,
     "metadata": {},
     "output_type": "execute_result"
    }
   ],
   "source": [
    "\n",
    "reduced_data.shape\n"
   ]
  },
  {
   "cell_type": "code",
   "execution_count": 21,
   "id": "11764b8f",
   "metadata": {},
   "outputs": [],
   "source": [
    "data = reduced_data"
   ]
  },
  {
   "cell_type": "code",
   "execution_count": 22,
   "id": "cc71f0a0",
   "metadata": {},
   "outputs": [
    {
     "data": {
      "text/plain": [
       "(5051, 26)"
      ]
     },
     "execution_count": 22,
     "metadata": {},
     "output_type": "execute_result"
    }
   ],
   "source": [
    "data.shape"
   ]
  },
  {
   "cell_type": "code",
   "execution_count": 23,
   "id": "a4af0d1d",
   "metadata": {},
   "outputs": [],
   "source": [
    "# Clustring Analysis"
   ]
  },
  {
   "cell_type": "code",
   "execution_count": 24,
   "id": "a0312514",
   "metadata": {},
   "outputs": [],
   "source": [
    "from sklearn.cluster import KMeans\n",
    "from sklearn.metrics import silhouette_score\n",
    "import matplotlib.pyplot as plt\n"
   ]
  },
  {
   "cell_type": "code",
   "execution_count": 25,
   "id": "197bba93",
   "metadata": {},
   "outputs": [],
   "source": [
    "# Create a list to store silhouette scores for each value of k\n",
    "silhouette_scores = []\n",
    "\n",
    "# Define the range of k values\n",
    "k_values = range(2, 7)\n",
    "\n",
    "# Loop through each value of k and perform K-means clustering\n",
    "for k in k_values:\n",
    "    kmeans = KMeans(n_clusters=k, n_init =100,random_state=0)\n",
    "    cluster_labels = kmeans.fit_predict(data)\n",
    "    # Calculate the silhouette score for this clustering\n",
    "    silhouette_avg = silhouette_score(data, cluster_labels)\n",
    "    silhouette_scores.append(silhouette_avg)\n",
    "k_values = [0] + list(k_values)\n",
    "silhouette_scores = [0] + silhouette_scores"
   ]
  },
  {
   "cell_type": "code",
   "execution_count": 26,
   "id": "e1999ed4",
   "metadata": {},
   "outputs": [
    {
     "data": {
      "image/png": "[encoded data removed]",
      "text/plain": [
       "<Figure size 200x200 with 1 Axes>"
      ]
     },
     "metadata": {},
     "output_type": "display_data"
    }
   ],
   "source": [
    "# Plot the silhouette scores for different values of k\n",
    "plt.figure(figsize=(2, 2))\n",
    "\n",
    "plt.plot(k_values, silhouette_scores, marker='o', linestyle='-', color='b')\n",
    "plt.xlabel('Number of Clusters (k)')\n",
    "plt.ylabel('Silhouette Score')\n",
    "plt.title('Silhouette Score vs. Number of Clusters')\n",
    "plt.grid(True)\n",
    "plt.show()\n"
   ]
  },
  {
   "cell_type": "code",
   "execution_count": 27,
   "id": "f7adea2e",
   "metadata": {},
   "outputs": [
    {
     "name": "stdout",
     "output_type": "stream",
     "text": [
      "For k=0, Silhouette Score: 0\n",
      "For k=2, Silhouette Score: 0.027456834163542318\n",
      "For k=3, Silhouette Score: 0.02457411194103756\n",
      "For k=4, Silhouette Score: 0.024059936894548953\n",
      "For k=5, Silhouette Score: 0.02418781319827374\n",
      "For k=6, Silhouette Score: 0.02414559662870383\n"
     ]
    }
   ],
   "source": [
    "# Print the silhouette scores for each k\n",
    "for k, score in zip(k_values, silhouette_scores):\n",
    "    print(f\"For k={k}, Silhouette Score: {score}\")"
   ]
  },
  {
   "cell_type": "code",
   "execution_count": 28,
   "id": "a7642e96",
   "metadata": {},
   "outputs": [],
   "source": [
    "kmeans = KMeans(n_clusters=2, random_state=0,n_init =100)\n",
    "cluster_labels = kmeans.fit_predict(data)"
   ]
  },
  {
   "cell_type": "code",
   "execution_count": 29,
   "id": "36c8e1a3-bf07-4140-8d96-27757306d75c",
   "metadata": {},
   "outputs": [
    {
     "data": {
      "text/plain": [
       "array([1, 0, 1, ..., 0, 1, 1], dtype=int32)"
      ]
     },
     "execution_count": 29,
     "metadata": {},
     "output_type": "execute_result"
    }
   ],
   "source": [
    "cluster_labels"
   ]
  },
  {
   "cell_type": "code",
   "execution_count": 30,
   "id": "1b2372fc",
   "metadata": {},
   "outputs": [
    {
     "data": {
      "text/plain": [
       "(5051, 26)"
      ]
     },
     "execution_count": 30,
     "metadata": {},
     "output_type": "execute_result"
    }
   ],
   "source": [
    "data.shape"
   ]
  },
  {
   "cell_type": "code",
   "execution_count": 31,
   "id": "8e0987a0",
   "metadata": {},
   "outputs": [],
   "source": [
    "from sklearn.discriminant_analysis import LinearDiscriminantAnalysis\n",
    "from sklearn.discriminant_analysis import QuadraticDiscriminantAnalysis\n",
    "from sklearn.metrics import roc_auc_score, accuracy_score, f1_score, make_scorer\n",
    "from sklearn.model_selection import cross_val_score, KFold\n",
    "from sklearn.linear_model import LogisticRegression\n",
    "from sklearn.tree import DecisionTreeClassifier\n",
    "from sklearn.ensemble import AdaBoostClassifier\n",
    "from sklearn.naive_bayes import GaussianNB"
   ]
  },
  {
   "cell_type": "code",
   "execution_count": 32,
   "id": "6a84316c",
   "metadata": {},
   "outputs": [
    {
     "name": "stdout",
     "output_type": "stream",
     "text": [
      "AUC Mean: 0.9901, Std: 0.0052\n",
      "Accuracy Mean: 0.9901, Std: 0.0052\n",
      "F1 Score Mean: 0.9901, Std: 0.0052\n"
     ]
    }
   ],
   "source": [
    "X = data  # Shape (5051, 26)\n",
    "y = cluster_labels  # Shape (5051,)\n",
    "\n",
    "# Create and train the LDA classifier\n",
    "lda = LinearDiscriminantAnalysis()\n",
    "# Define evaluation metrics\n",
    "scoring = {\n",
    "    'AUC': make_scorer(roc_auc_score),\n",
    "    'Accuracy': make_scorer(accuracy_score),\n",
    "    'F1 Score': make_scorer(f1_score),\n",
    "}\n",
    "\n",
    "# Perform 10-fold cross-validation\n",
    "kf = KFold(n_splits=10, shuffle=True, random_state=42)\n",
    "\n",
    "for metric_name, scorer in scoring.items():\n",
    "    scores = cross_val_score(lda, X, y, cv=kf, scoring=scorer)\n",
    "    print(f\"{metric_name} Mean: {np.mean(scores):.4f}, Std: {np.std(scores):.4f}\")"
   ]
  },
  {
   "cell_type": "code",
   "execution_count": 33,
   "id": "b05a2f09",
   "metadata": {},
   "outputs": [
    {
     "name": "stdout",
     "output_type": "stream",
     "text": [
      "AUC Mean: 0.9700, Std: 0.0061\n",
      "Accuracy Mean: 0.9699, Std: 0.0061\n",
      "F1 Score Mean: 0.9700, Std: 0.0061\n"
     ]
    }
   ],
   "source": [
    "qda = QuadraticDiscriminantAnalysis()\n",
    "\n",
    "# Define evaluation metrics\n",
    "scoring = {\n",
    "    'AUC': make_scorer(roc_auc_score),\n",
    "    'Accuracy': make_scorer(accuracy_score),\n",
    "    'F1 Score': make_scorer(f1_score),\n",
    "}\n",
    "\n",
    "# Perform 10-fold cross-validation\n",
    "kf = KFold(n_splits=10, shuffle=True, random_state=42)\n",
    "\n",
    "for metric_name, scorer in scoring.items():\n",
    "    scores = cross_val_score(qda, X, y, cv=kf, scoring=scorer)\n",
    "    print(f\"{metric_name} Mean: {np.mean(scores):.4f}, Std: {np.std(scores):.4f}\")\n"
   ]
  },
  {
   "cell_type": "code",
   "execution_count": 34,
   "id": "0afc49ea",
   "metadata": {},
   "outputs": [
    {
     "name": "stdout",
     "output_type": "stream",
     "text": [
      "AUC Mean: 0.9962, Std: 0.0027\n",
      "Accuracy Mean: 0.9962, Std: 0.0027\n",
      "F1 Score Mean: 0.9962, Std: 0.0027\n"
     ]
    }
   ],
   "source": [
    "# Create a Logistic Regression classifier\n",
    "logistic_reg = LogisticRegression()\n",
    "\n",
    "# Define evaluation metrics\n",
    "scoring = {\n",
    "    'AUC': make_scorer(roc_auc_score),\n",
    "    'Accuracy': make_scorer(accuracy_score),\n",
    "    'F1 Score': make_scorer(f1_score),\n",
    "}\n",
    "\n",
    "# Perform 10-fold cross-validation\n",
    "kf = KFold(n_splits=10, shuffle=True, random_state=42)\n",
    "\n",
    "for metric_name, scorer in scoring.items():\n",
    "    scores = cross_val_score(logistic_reg, X, y, cv=kf, scoring=scorer)\n",
    "    print(f\"{metric_name} Mean: {np.mean(scores):.4f}, Std: {np.std(scores):.4f}\")"
   ]
  },
  {
   "cell_type": "code",
   "execution_count": 35,
   "id": "abdc2cd7",
   "metadata": {},
   "outputs": [
    {
     "name": "stdout",
     "output_type": "stream",
     "text": [
      "/Users/aman.meena/Documents/fint\r\n"
     ]
    }
   ],
   "source": [
    "!pwd"
   ]
  },
  {
   "cell_type": "code",
   "execution_count": 36,
   "id": "17dafc49",
   "metadata": {},
   "outputs": [
    {
     "name": "stdout",
     "output_type": "stream",
     "text": [
      "AUC Mean: 0.8400, Std: 0.0112\n",
      "Accuracy Mean: 0.8422, Std: 0.0114\n",
      "F1 Score Mean: 0.8441, Std: 0.0105\n"
     ]
    }
   ],
   "source": [
    "decision_tree = DecisionTreeClassifier()\n",
    "\n",
    "# Define evaluation metrics\n",
    "scoring = {\n",
    "    'AUC': make_scorer(roc_auc_score),\n",
    "    'Accuracy': make_scorer(accuracy_score),\n",
    "    'F1 Score': make_scorer(f1_score),\n",
    "}\n",
    "\n",
    "# Perform 10-fold cross-validation\n",
    "kf = KFold(n_splits=10, shuffle=True, random_state=42)\n",
    "\n",
    "for metric_name, scorer in scoring.items():\n",
    "    scores = cross_val_score(decision_tree, X, y, cv=kf, scoring=scorer)\n",
    "    print(f\"{metric_name} Mean: {np.mean(scores):.4f}, Std: {np.std(scores):.4f}\")\n"
   ]
  },
  {
   "cell_type": "code",
   "execution_count": 37,
   "id": "e5998253",
   "metadata": {},
   "outputs": [
    {
     "name": "stdout",
     "output_type": "stream",
     "text": [
      "AUC Mean: 0.8386, Std: 0.0095\n",
      "Accuracy Mean: 0.8408, Std: 0.0150\n",
      "F1 Score Mean: 0.8414, Std: 0.0166\n"
     ]
    }
   ],
   "source": [
    "base_classifier = DecisionTreeClassifier()  # You can choose a different base classifier if needed\n",
    "adaboost_classifier = AdaBoostClassifier(base_classifier)\n",
    "\n",
    "# Define evaluation metrics\n",
    "scoring = {\n",
    "    'AUC': make_scorer(roc_auc_score),\n",
    "    'Accuracy': make_scorer(accuracy_score),\n",
    "    'F1 Score': make_scorer(f1_score),\n",
    "}\n",
    "\n",
    "# Perform 10-fold cross-validation\n",
    "kf = KFold(n_splits=10, shuffle=True, random_state=42)\n",
    "\n",
    "for metric_name, scorer in scoring.items():\n",
    "    scores = cross_val_score(adaboost_classifier, X, y, cv=kf, scoring=scorer)\n",
    "    print(f\"{metric_name} Mean: {np.mean(scores):.4f}, Std: {np.std(scores):.4f}\")\n"
   ]
  },
  {
   "cell_type": "code",
   "execution_count": 38,
   "id": "493370f2",
   "metadata": {},
   "outputs": [
    {
     "name": "stdout",
     "output_type": "stream",
     "text": [
      "AUC Mean: 0.9574, Std: 0.0070\n",
      "Accuracy Mean: 0.9574, Std: 0.0070\n",
      "F1 Score Mean: 0.9575, Std: 0.0074\n"
     ]
    }
   ],
   "source": [
    "naive_bayes = GaussianNB()\n",
    "\n",
    "# Define evaluation metrics\n",
    "scoring = {\n",
    "    'AUC': make_scorer(roc_auc_score),\n",
    "    'Accuracy': make_scorer(accuracy_score),\n",
    "    'F1 Score': make_scorer(f1_score),\n",
    "}\n",
    "\n",
    "# Perform 10-fold cross-validation\n",
    "kf = KFold(n_splits=10, shuffle=True, random_state=42)\n",
    "\n",
    "for metric_name, scorer in scoring.items():\n",
    "    scores = cross_val_score(naive_bayes, X, y, cv=kf, scoring=scorer)\n",
    "    print(f\"{metric_name} Mean: {np.mean(scores):.4f}, Std: {np.std(scores):.4f}\")\n"
   ]
  },
  {
   "cell_type": "code",
   "execution_count": 39,
   "id": "a6b096ab",
   "metadata": {},
   "outputs": [
    {
     "data": {
      "text/plain": [
       "array([[-0.29234724, -2.07414455, -0.33580672, ..., -0.13012279,\n",
       "        -0.02957552, -0.89849891],\n",
       "       [ 0.98301245, -0.36556327,  0.35753026, ..., -2.65578397,\n",
       "        -0.46441329, -0.0048024 ],\n",
       "       [ 1.31694539, -0.79977153, -1.19057439, ..., -0.04351192,\n",
       "        -0.99326073, -0.3717693 ],\n",
       "       ...,\n",
       "       [ 1.94440141, -0.35340737, -0.19986285, ..., -0.86338459,\n",
       "         0.68520993,  0.98047295],\n",
       "       [ 0.35315766, -1.11940442, -0.75323326, ..., -0.05597727,\n",
       "         1.41824268, -1.58548788],\n",
       "       [-2.10139333,  0.82313595, -0.96049059, ...,  0.21271179,\n",
       "         0.03584481,  0.0432065 ]])"
      ]
     },
     "execution_count": 39,
     "metadata": {},
     "output_type": "execute_result"
    }
   ],
   "source": [
    "reduced_new_data"
   ]
  },
  {
   "cell_type": "code",
   "execution_count": null,
   "id": "36f2009f",
   "metadata": {},
   "outputs": [],
   "source": []
  },
  {
   "cell_type": "code",
   "execution_count": null,
   "id": "172e81e5",
   "metadata": {},
   "outputs": [],
   "source": []
  },
  {
   "cell_type": "code",
   "execution_count": null,
   "id": "986315fb",
   "metadata": {},
   "outputs": [],
   "source": []
  },
  {
   "cell_type": "code",
   "execution_count": null,
   "id": "3a87c46c",
   "metadata": {},
   "outputs": [],
   "source": []
  },
  {
   "cell_type": "code",
   "execution_count": null,
   "id": "41fbe109",
   "metadata": {},
   "outputs": [],
   "source": []
  },
  {
   "cell_type": "code",
   "execution_count": null,
   "id": "7bb48292",
   "metadata": {},
   "outputs": [],
   "source": []
  },
  {
   "cell_type": "code",
   "execution_count": null,
   "id": "1d457c52",
   "metadata": {},
   "outputs": [],
   "source": []
  },
  {
   "cell_type": "code",
   "execution_count": null,
   "id": "70969245",
   "metadata": {},
   "outputs": [],
   "source": []
  },
  {
   "cell_type": "code",
   "execution_count": null,
   "id": "7af1e35f",
   "metadata": {},
   "outputs": [],
   "source": []
  },
  {
   "cell_type": "code",
   "execution_count": null,
   "id": "5b9d5f3f",
   "metadata": {},
   "outputs": [],
   "source": []
  },
  {
   "cell_type": "code",
   "execution_count": null,
   "id": "bf4c5aba",
   "metadata": {},
   "outputs": [],
   "source": []
  },
  {
   "cell_type": "code",
   "execution_count": null,
   "id": "78535ac0",
   "metadata": {},
   "outputs": [],
   "source": []
  },
  {
   "cell_type": "code",
   "execution_count": null,
   "id": "02fc600c",
   "metadata": {},
   "outputs": [],
   "source": []
  },
  {
   "cell_type": "code",
   "execution_count": null,
   "id": "84147bdf",
   "metadata": {},
   "outputs": [],
   "source": []
  }
 ],
 "metadata": {
  "kernelspec": {
   "display_name": "Python 3 (ipykernel)",
   "language": "python",
   "name": "python3"
  },
  "language_info": {
   "codemirror_mode": {
    "name": "ipython",
    "version": 3
   },
   "file_extension": ".py",
   "mimetype": "text/x-python",
   "name": "python",
   "nbconvert_exporter": "python",
   "pygments_lexer": "ipython3",
   "version": "3.8.16"
  }
 },
 "nbformat": 4,
 "nbformat_minor": 5
}
